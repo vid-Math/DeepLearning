{
  "nbformat": 4,
  "nbformat_minor": 0,
  "metadata": {
    "colab": {
      "provenance": [],
      "include_colab_link": true
    },
    "kernelspec": {
      "name": "python3",
      "display_name": "Python 3"
    },
    "language_info": {
      "name": "python"
    },
    "accelerator": "GPU",
    "gpuClass": "standard"
  },
  "cells": [
    {
      "cell_type": "markdown",
      "metadata": {
        "id": "view-in-github",
        "colab_type": "text"
      },
      "source": [
        "<a href=\"https://colab.research.google.com/github/vid-Math/DeepLearning/blob/main/DNN_boilerplate_code.ipynb\" target=\"_parent\"><img src=\"https://colab.research.google.com/assets/colab-badge.svg\" alt=\"Open In Colab\"/></a>"
      ]
    },
    {
      "cell_type": "markdown",
      "source": [
        "## Import libraries"
      ],
      "metadata": {
        "id": "eatd_MK1leSr"
      }
    },
    {
      "cell_type": "code",
      "execution_count": 4,
      "metadata": {
        "id": "Ycvvjf4Iw2nc"
      },
      "outputs": [],
      "source": [
        "import tensorflow as tf\n",
        "from tensorflow import keras\n",
        "import math\n",
        "import numpy as np\n",
        "import pandas as pd\n",
        "import matplotlib.pyplot as plt \n",
        "\n",
        "from keras.layers import Dense, Flatten\n",
        "from keras import Input\n",
        "from tensorflow.keras.utils import plot_model\n",
        "\n",
        "from tensorflow.keras.datasets import mnist, fashion_mnist"
      ]
    },
    {
      "cell_type": "markdown",
      "source": [
        "# Basic Sequential Model"
      ],
      "metadata": {
        "id": "517QIYKpfVuw"
      }
    },
    {
      "cell_type": "markdown",
      "source": [
        "Sequential Model - layers of neural network are stacked sequentially. The approach:\n",
        "1.  Implement a class to build a dense layer (NaiveDense)\n",
        "2.  Stack the layers sequentially and build or suquential model (NaiveSequential)\n"
      ],
      "metadata": {
        "id": "_Tdm4MV4T7ws"
      }
    },
    {
      "cell_type": "code",
      "source": [
        "# Implemnting dense layer class\n",
        "class NaiveDense:\n",
        "  def __init__(self, input_size, output_size, activation):  #input and output sizes for the layer\n",
        "    self.activation = activation\n",
        "\n",
        "    w_shape = (input_size, output_size)       # matrix of weights\n",
        "    w_initial_value = tf.random.uniform(w_shape, minval=0, maxval=1e-1)\n",
        "    self.w = tf.Variable(w_initial_value)     # we can only update values of tf.Variables\n",
        "\n",
        "    b_shape = (output_size,)                  # vector of biases\n",
        "    b_initial_value = tf.zeros(b_shape)\n",
        "    self.b = tf.Variable(b_initial_value)\n",
        "\n",
        "  def __call__(self, inputs):                 # executed when the class object is used as a function\n",
        "    return self.activation(tf.matmul(inputs, self.w)+self.b)      # self.b is broadcasted\n",
        "\n",
        "  @property                                   # enables us to use the method as an attribute\n",
        "  def weights(self):\n",
        "    return (self.w, self.b)"
      ],
      "metadata": {
        "id": "xpdyi8kVw-zz"
      },
      "execution_count": 1,
      "outputs": []
    },
    {
      "cell_type": "markdown",
      "source": [
        "Now stacking them together sequentially in NaiveSequential class"
      ],
      "metadata": {
        "id": "zggIWLcPbj-2"
      }
    },
    {
      "cell_type": "code",
      "source": [
        "class NaiveSequential:\n",
        "  def __init__(self,layers):    # layers: list of layer objects\n",
        "    self.layers = layers\n",
        "\n",
        "  def __call__(self, inputs):   \n",
        "    x = inputs\n",
        "    for layer in self.layers:     #ouptut of the prev layer is the input to the next layer\n",
        "      x = layer(x)\n",
        "    return x\n",
        "\n",
        "  @property\n",
        "  def weights(self):\n",
        "    weights = []\n",
        "    for layer in self.layers:     # save weights of each layer to a list\n",
        "      weights += layer.weights    # Q: What does layer.weights return? \n",
        "    return weights                # A: layer.weights calls the function layer.weights() since it decorated with @property. It returns (w,b)\n",
        "\n"
      ],
      "metadata": {
        "id": "0kA-qPdezucM"
      },
      "execution_count": 2,
      "outputs": []
    },
    {
      "cell_type": "markdown",
      "source": [
        "Iinstantiate our NaiveSequential class and make first NN model"
      ],
      "metadata": {
        "id": "6WNsmMS1dlKn"
      }
    },
    {
      "cell_type": "code",
      "source": [
        "# define the model\n",
        "# input to the model - layers (NaiveDense)\n",
        "model = NaiveSequential([\n",
        "        NaiveDense(input_size=28*28,output_size=512,activation=tf.nn.relu), #input dim = 28*24 = 784\n",
        "        NaiveDense(input_size=512,output_size=10,activation=tf.nn.softmax)  #output dim = 10 \n",
        "])"
      ],
      "metadata": {
        "id": "d6D514nbI_-h"
      },
      "execution_count": 5,
      "outputs": []
    },
    {
      "cell_type": "markdown",
      "source": [
        "Let's solve a calssification problem by using above sequential model for [MNIST data set](https://keras.io/api/datasets/mnist/). \n",
        "\n",
        "Steps followed:\n",
        "1. Load the data, \n",
        "2. Reshape the data according to the input shape of the model and \n",
        "3. Normalize the data"
      ],
      "metadata": {
        "id": "elt6Stitd89N"
      }
    },
    {
      "cell_type": "code",
      "source": [
        "# Load data\n",
        "(train_images, train_labels),(test_images, test_labels) = mnist.load_data()\n",
        "print(f\"train_images.shape = {train_images.shape}\")\n",
        "print(f\"train_labels.shape = {train_labels.shape}\")\n",
        "\n",
        "idx = 7\n",
        "plt.imshow(train_images[idx])\n",
        "print(f\"label for image id {idx}: \",train_labels[idx])\n"
      ],
      "metadata": {
        "id": "VI9typezHEjU",
        "colab": {
          "base_uri": "https://localhost:8080/",
          "height": 352
        },
        "outputId": "db673a5b-3d1a-479b-ef15-8ce4c5e5489f"
      },
      "execution_count": 6,
      "outputs": [
        {
          "output_type": "stream",
          "name": "stdout",
          "text": [
            "Downloading data from https://storage.googleapis.com/tensorflow/tf-keras-datasets/mnist.npz\n",
            "11490434/11490434 [==============================] - 0s 0us/step\n",
            "train_images.shape = (60000, 28, 28)\n",
            "train_labels.shape = (60000,)\n",
            "label for image id 7:  3\n"
          ]
        },
        {
          "output_type": "display_data",
          "data": {
            "text/plain": [
              "<Figure size 432x288 with 1 Axes>"
            ],
            "image/png": "[encoded data removed]"
          },
          "metadata": {
            "needs_background": "light"
          }
        }
      ]
    },
    {
      "cell_type": "code",
      "source": [
        "# reshape and normalize data\n",
        "train_images = train_images.reshape((len(train_images),\n",
        "                                     28*28)).astype(\"float32\")/255\n",
        "test_images = test_images.reshape((len(test_images),\n",
        "                                     28*28)).astype(\"float32\")/255\n",
        "\n",
        "print(train_labels)"
      ],
      "metadata": {
        "colab": {
          "base_uri": "https://localhost:8080/"
        },
        "id": "sx1EX8vEc4xJ",
        "outputId": "5ff42bcc-d1e5-40f3-afad-edf937c78872"
      },
      "execution_count": 7,
      "outputs": [
        {
          "output_type": "stream",
          "name": "stdout",
          "text": [
            "[5 0 4 ... 5 6 8]\n"
          ]
        }
      ]
    },
    {
      "cell_type": "markdown",
      "source": [
        "Next we divide the data into batches. For this operation let's implement a class for Batch Generation."
      ],
      "metadata": {
        "id": "tkUUYF4Ye4_q"
      }
    },
    {
      "cell_type": "code",
      "source": [
        "class BatchGenerator:\n",
        "\n",
        "  def __init__(self, images, labels, batch_size=128):\n",
        "    assert len(images) == len(labels)\n",
        "    self.index = 0\n",
        "    self.images = images\n",
        "    self.labels = labels\n",
        "    self.batch_size = batch_size\n",
        "    self.num_batches = math.ceil(len(images)/batch_size)\n",
        "    print(f\"batch size = {batch_size}\")\n",
        "    print(f\"num of batches = {self.num_batches}\")\n",
        "\n",
        "  def next(self):\n",
        "    images = self.images[self.index:self.index + self.batch_size]\n",
        "    labels = self.labels[self.index:self.index + self.batch_size]\n",
        "    self.index += self.batch_size\n",
        "    return images, labels"
      ],
      "metadata": {
        "id": "5GXARTD3uDNr"
      },
      "execution_count": 8,
      "outputs": []
    },
    {
      "cell_type": "markdown",
      "source": [
        "\n",
        "*Training steps:*\n",
        "\n",
        "1. Compute the predictions using current weights (Forward Pass).\n",
        "2. Compute the loss value for these predictions.\n",
        "3. Compute the gradient with respect to model weights.\n",
        "4. update the weights."
      ],
      "metadata": {
        "id": "UgMQxpCtDyA-"
      }
    },
    {
      "cell_type": "code",
      "source": [
        "# one_training_step function gives the idea of how loss is computed and layer \\\n",
        "# parameters (weights and biases) are updated\n",
        "def one_training_step(model, images_batch, labels_batch):\n",
        "  with tf.GradientTape() as tape:                   # GradientTape() is the computational graph \n",
        "    predictions = model(images_batch)               # forward pass.  - step1\n",
        "    per_sample_losses = keras.losses.sparse_categorical_crossentropy(  # define loss - step2\n",
        "        labels_batch, predictions\n",
        "    )\n",
        "    average_loss = tf.reduce_mean(per_sample_losses)  \n",
        "  gradients = tape.gradient(average_loss, model.weights)      # Compute gradients - step 3\n",
        "  update_weights(gradients, model.weights)                    # Update the weights - step 4 learning is happening\n",
        "  return average_loss\n",
        "\n",
        "learning_rate = 1e-3\n",
        "def update_weights(gradients, weights):\n",
        "  for g,w in zip(gradients, weights):\n",
        "    w.assign_sub(g*learning_rate)             # w -= g*lr\n",
        "    \n",
        "# Full training loop\n",
        "# one loop for mini batch and then for another batch\n",
        "def fit(model, images, labels, epochs, batch_size=128):\n",
        "  for epoch in range(epochs):                       # repeat for epochs\n",
        "    print(f\"Epoch {epoch}\")\n",
        "    batch_generator = BatchGenerator(images, labels)\n",
        "    for batch_counter in range(batch_generator.num_batches):      # go through all mini-batches in the data\n",
        "      images_batch, labels_batch = batch_generator.next()\n",
        "      loss = one_training_step(model, images_batch, labels_batch)\n",
        "      if batch_counter%100 == 0:\n",
        "        print(f\"loss at batch {batch_counter}:{loss:.2f}\")\n"
      ],
      "metadata": {
        "id": "aFh4xHf3DuHT"
      },
      "execution_count": 1,
      "outputs": []
    },
    {
      "cell_type": "markdown",
      "source": [
        "Now let's train the model on MNIST data set."
      ],
      "metadata": {
        "id": "fi3VZPlPg1KQ"
      }
    },
    {
      "cell_type": "code",
      "source": [
        "fit(model, train_images, train_labels, epochs=10, batch_size=128)"
      ],
      "metadata": {
        "colab": {
          "base_uri": "https://localhost:8080/"
        },
        "id": "4oHVb61nItzQ",
        "outputId": "0ac6cc2d-e7b9-4cf9-bc55-76e4fa8da6f3"
      },
      "execution_count": null,
      "outputs": [
        {
          "output_type": "stream",
          "name": "stdout",
          "text": [
            "Epoch 0\n",
            "batch size = 128\n",
            "num of batches = 469\n",
            "loss at batch 0:6.04\n",
            "loss at batch 100:2.23\n",
            "loss at batch 200:2.19\n",
            "loss at batch 300:2.09\n",
            "loss at batch 400:2.24\n",
            "Epoch 1\n",
            "batch size = 128\n",
            "num of batches = 469\n",
            "loss at batch 0:1.93\n",
            "loss at batch 100:1.88\n",
            "loss at batch 200:1.82\n",
            "loss at batch 300:1.73\n",
            "loss at batch 400:1.85\n",
            "Epoch 2\n",
            "batch size = 128\n",
            "num of batches = 469\n",
            "loss at batch 0:1.61\n",
            "loss at batch 100:1.58\n",
            "loss at batch 200:1.49\n",
            "loss at batch 300:1.44\n",
            "loss at batch 400:1.52\n",
            "Epoch 3\n",
            "batch size = 128\n",
            "num of batches = 469\n",
            "loss at batch 0:1.35\n",
            "loss at batch 100:1.34\n",
            "loss at batch 200:1.22\n",
            "loss at batch 300:1.22\n",
            "loss at batch 400:1.27\n",
            "Epoch 4\n",
            "batch size = 128\n",
            "num of batches = 469\n",
            "loss at batch 0:1.14\n",
            "loss at batch 100:1.15\n",
            "loss at batch 200:1.03\n",
            "loss at batch 300:1.05\n",
            "loss at batch 400:1.10\n",
            "Epoch 5\n",
            "batch size = 128\n",
            "num of batches = 469\n",
            "loss at batch 0:0.99\n",
            "loss at batch 100:1.01\n",
            "loss at batch 200:0.89\n",
            "loss at batch 300:0.93\n",
            "loss at batch 400:0.98\n",
            "Epoch 6\n",
            "batch size = 128\n",
            "num of batches = 469\n",
            "loss at batch 0:0.88\n",
            "loss at batch 100:0.90\n",
            "loss at batch 200:0.78\n",
            "loss at batch 300:0.84\n",
            "loss at batch 400:0.89\n",
            "Epoch 7\n",
            "batch size = 128\n",
            "num of batches = 469\n",
            "loss at batch 0:0.80\n",
            "loss at batch 100:0.82\n",
            "loss at batch 200:0.71\n",
            "loss at batch 300:0.77\n",
            "loss at batch 400:0.82\n",
            "Epoch 8\n",
            "batch size = 128\n",
            "num of batches = 469\n",
            "loss at batch 0:0.74\n",
            "loss at batch 100:0.75\n",
            "loss at batch 200:0.64\n",
            "loss at batch 300:0.71\n",
            "loss at batch 400:0.77\n",
            "Epoch 9\n",
            "batch size = 128\n",
            "num of batches = 469\n",
            "loss at batch 0:0.68\n",
            "loss at batch 100:0.70\n",
            "loss at batch 200:0.60\n",
            "loss at batch 300:0.66\n",
            "loss at batch 400:0.73\n"
          ]
        }
      ]
    },
    {
      "cell_type": "code",
      "source": [
        "#  Evaluation step\n",
        "predictions = model(test_images).numpy()\n",
        "predicted_labels = np.argmax(predictions,axis=1) \n",
        "matches = predicted_labels == test_labels\n",
        "print(f\"accuracy:{matches.mean():.2f}\")\n",
        "print(predictions.shape)\n",
        "print(predicted_labels)\n",
        "print(matches)\n",
        "\n"
      ],
      "metadata": {
        "colab": {
          "base_uri": "https://localhost:8080/"
        },
        "id": "R0r_RULJJazg",
        "outputId": "a822afd2-14e6-4cf6-8d90-7d7e58b278f1"
      },
      "execution_count": null,
      "outputs": [
        {
          "output_type": "stream",
          "name": "stdout",
          "text": [
            "accuracy:0.81\n",
            "(10000, 10)\n",
            "[7 3 1 ... 4 8 6]\n",
            "[ True False  True ...  True False  True]\n"
          ]
        }
      ]
    },
    {
      "cell_type": "code",
      "source": [
        "idx = 0\n",
        "plt.imshow(test_images[idx].reshape(28,28))\n",
        "print(predicted_labels[idx], test_labels[idx])"
      ],
      "metadata": {
        "colab": {
          "base_uri": "https://localhost:8080/",
          "height": 282
        },
        "id": "8sXg7ZEGjiai",
        "outputId": "9fa8dd06-fc88-478a-dfc4-2050d21247a5"
      },
      "execution_count": null,
      "outputs": [
        {
          "output_type": "stream",
          "name": "stdout",
          "text": [
            "7 7\n"
          ]
        },
        {
          "output_type": "display_data",
          "data": {
            "text/plain": [
              "<Figure size 432x288 with 1 Axes>"
            ],
            "image/png": "[encoded data removed]"
          },
          "metadata": {
            "needs_background": "light"
          }
        }
      ]
    },
    {
      "cell_type": "code",
      "source": [],
      "metadata": {
        "id": "w2b9oQbzWHcg"
      },
      "execution_count": null,
      "outputs": []
    }
  ]
}